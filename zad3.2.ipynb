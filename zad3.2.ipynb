{
 "cells": [
  {
   "cell_type": "raw",
   "metadata": {
    "collapsed": true,
    "pycharm": {
     "name": "#%% raw\n"
    }
   },
   "source": [
    "#Skrypt służący do wczytywania obrazu i dzielenie go na próbki tekstury"
   ]
  },
  {
   "cell_type": "code",
   "execution_count": 7,
   "outputs": [],
   "source": [
    "import os\n",
    "from PIL import Image"
   ],
   "metadata": {
    "collapsed": false,
    "pycharm": {
     "name": "#%%\n"
    }
   }
  },
  {
   "cell_type": "code",
   "execution_count": 8,
   "outputs": [],
   "source": [
    "#deklaracja zmiennych\n",
    "path = \"C:\\\\Users\\\\zsuet\\\\Desktop\\\\studia\\\\2 stopień\\\\Programowanie w obliczeniach inteligentych\\\\zad3\\\\drzwi\\\\drzwi.jpg\"\n",
    "width = 128\n",
    "height = 128"
   ],
   "metadata": {
    "collapsed": false,
    "pycharm": {
     "name": "#%%\n"
    }
   }
  },
  {
   "cell_type": "code",
   "execution_count": 9,
   "outputs": [],
   "source": [
    "#wczytywanie obrazu\n",
    "img = Image.open(path)"
   ],
   "metadata": {
    "collapsed": false,
    "pycharm": {
     "name": "#%%\n"
    }
   }
  },
  {
   "cell_type": "code",
   "execution_count": 10,
   "outputs": [],
   "source": [
    "#obliczanie ilości próbek tekstur\n",
    "numberW = img.size[0]/width\n",
    "numberH = img.size[1]/height"
   ],
   "metadata": {
    "collapsed": false,
    "pycharm": {
     "name": "#%%\n"
    }
   }
  },
  {
   "cell_type": "code",
   "execution_count": 11,
   "outputs": [],
   "source": [
    "#tworzenie nowego folderu gdzie zapisywane bedą próbki\n",
    "i = len(path)\n",
    "while i > 0:\n",
    "    i = i - 1\n",
    "    if path[i] == \"\\\\\":\n",
    "        break\n",
    "\n",
    "\n",
    "path = path[:i+1] + \"fragments\"\n",
    "if not os.path.exists(path):\n",
    "    os.makedirs(path)"
   ],
   "metadata": {
    "collapsed": false,
    "pycharm": {
     "name": "#%%\n"
    }
   }
  },
  {
   "cell_type": "code",
   "execution_count": 12,
   "outputs": [],
   "source": [
    "#dzielenie wczytanego obrazu na próbki\n",
    "w1 = 0; h1 = 0; w2 = width; h2 = height;\n",
    "iterations = 1\n",
    "for i in range (0,int(numberH)):\n",
    "    for j in range (0,int(numberW)):\n",
    "        img_crop = img.crop((w1,h1,w2,h2))\n",
    "        img_crop.save(path + \"\\\\\" + str(iterations) + \".jpg\")\n",
    "        w1 = w1 + width\n",
    "        w2 = w2 + width\n",
    "        iterations = iterations + 1\n",
    "    w1 = 0; h1 = h1 + height; w2 = width; h2 = h2 + height;"
   ],
   "metadata": {
    "collapsed": false,
    "pycharm": {
     "name": "#%%\n"
    }
   }
  }
 ],
 "metadata": {
  "kernelspec": {
   "display_name": "Python 3",
   "language": "python",
   "name": "python3"
  },
  "language_info": {
   "codemirror_mode": {
    "name": "ipython",
    "version": 2
   },
   "file_extension": ".py",
   "mimetype": "text/x-python",
   "name": "python",
   "nbconvert_exporter": "python",
   "pygments_lexer": "ipython2",
   "version": "2.7.6"
  }
 },
 "nbformat": 4,
 "nbformat_minor": 0
}