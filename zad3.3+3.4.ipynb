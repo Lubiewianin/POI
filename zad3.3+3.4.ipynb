{
 "cells": [
  {
   "cell_type": "raw",
   "metadata": {
    "collapsed": true,
    "pycharm": {
     "name": "#%% raw\n"
    }
   },
   "source": [
    "#Skrypt do wyznaczania cech tekstury na podstawie modelu zdarzeń dla każdej próbki, oraz zapisywanie zbioru wektorów do pliku csv"
   ]
  },
  {
   "cell_type": "code",
   "execution_count": null,
   "outputs": [],
   "source": [
    "from skimage.feature import greycomatrix, greycoprops\n",
    "from skimage import io, color, img_as_ubyte\n",
    "import numpy as np\n",
    "import pandas as pd"
   ],
   "metadata": {
    "collapsed": false,
    "pycharm": {
     "name": "#%%\n"
    }
   }
  },
  {
   "cell_type": "code",
   "execution_count": null,
   "outputs": [],
   "source": [
    "# definiowanie zmiennych\n",
    "n = 972 # liczba próbek\n",
    "distances = [1,3,5] # odległości pikseli\n",
    "angles = ['0','pi/4', 'pi/2', '3pi/4'] #kierunki\n",
    "features = ['dissimilarity','correlation','contrast','energy','homogeneity','ASM'] #cechy\n",
    "names = []"
   ],
   "metadata": {
    "collapsed": false,
    "pycharm": {
     "name": "#%%\n"
    }
   }
  },
  {
   "cell_type": "code",
   "execution_count": null,
   "outputs": [],
   "source": [
    "# wypełnianie nazw kolumn\n",
    "for a in range(0, len(features)):\n",
    "    for b in range(0,len(distances)):\n",
    "        for c in range(0,len(angles)):\n",
    "            names.append( features[a] + '_' + str(distances[b]) + '_' + angles[c])\n",
    "\n",
    "\n",
    "names.append('category')"
   ],
   "metadata": {
    "collapsed": false,
    "pycharm": {
     "name": "#%%\n"
    }
   }
  },
  {
   "cell_type": "code",
   "execution_count": null,
   "outputs": [],
   "source": [
    "# sciezki do plikow\n",
    "path_name = ['drzwi','plytka','roleta']\n",
    "path = \"C:\\\\Users\\\\zsuet\\\\Desktop\\\\studia\\\\2 stopień\\\\Programowanie w obliczeniach inteligentych\\\\zad3\\\\\""
   ],
   "metadata": {
    "collapsed": false,
    "pycharm": {
     "name": "#%%\n"
    }
   }
  },
  {
   "cell_type": "code",
   "execution_count": null,
   "outputs": [],
   "source": [
    "# tworzenie macierzy zdarzeń dla każdej próbki dla każdej kategorii\n",
    "for p_counter in range (0,len(path_name)): # pętla z różnymi kategoriami\n",
    "    for iters in range (0,n): #pętla z różnymi próbkami w danej kategorii\n",
    "        p = path + path_name[p_counter] + '\\\\fragments\\\\'\n",
    "        img = io.imread(p + str(iters+1) + '.jpg') # ścieżka do poszczególnej próbki\n",
    "        img = img_as_ubyte(color.rgb2gray(img)) # przekształcenie próbki do skali szarości\n",
    "        img = np.digitize(img,[0,51,102,153,204,255]) # głębia jasności do 5 bitów\n",
    "        glcm = greycomatrix(img, distances=distances, angles=[0,np.pi/4, np.pi/2, 3*np.pi/4],levels = img.max()+1)\n",
    "        vector = []\n",
    "        for i in range(0,len(features)): # pętla wyznaczająca cechy dla poszczególnej próbki\n",
    "            arr = greycoprops(glcm,features[i])\n",
    "            vector = np.append(vector,arr)\n",
    "\n",
    "\n",
    "        if iters == 0: #zapisywanie cech do DF\n",
    "            y = pd.DataFrame(vector).append(pd.DataFrame([path_name[p_counter]]))\n",
    "        else:\n",
    "            x = pd.DataFrame(vector).append(pd.DataFrame([path_name[p_counter]]))\n",
    "            y = pd.concat([y,x],axis = 1)\n",
    "\n",
    "\n",
    "    if p_counter == 0:\n",
    "        df = y\n",
    "    else:\n",
    "        df = pd.concat([df,y],axis = 1)"
   ],
   "metadata": {
    "collapsed": false,
    "pycharm": {
     "name": "#%%\n"
    }
   }
  },
  {
   "cell_type": "code",
   "execution_count": null,
   "outputs": [],
   "source": [
    "df = df.transpose() #transpopzycja DF\n",
    "df.columns = names #zmiana nazw kolumn\n",
    "rows = range (0,df.shape[0]) #zmiana nazw indexów\n",
    "df.index = rows\n",
    "df.to_csv(path + '\\\\result.csv') #zapis DF do pliku .csv"
   ],
   "metadata": {
    "collapsed": false,
    "pycharm": {
     "name": "#%%\n"
    }
   }
  }
 ],
 "metadata": {
  "kernelspec": {
   "display_name": "Python 3",
   "language": "python",
   "name": "python3"
  },
  "language_info": {
   "codemirror_mode": {
    "name": "ipython",
    "version": 2
   },
   "file_extension": ".py",
   "mimetype": "text/x-python",
   "name": "python",
   "nbconvert_exporter": "python",
   "pygments_lexer": "ipython2",
   "version": "2.7.6"
  }
 },
 "nbformat": 4,
 "nbformat_minor": 0
}